{
  "nbformat": 4,
  "nbformat_minor": 0,
  "metadata": {
    "colab": {
      "provenance": [],
      "authorship_tag": "ABX9TyNcXEo7xuNV5SruT1xez/c0",
      "include_colab_link": true
    },
    "kernelspec": {
      "name": "python3",
      "display_name": "Python 3"
    },
    "language_info": {
      "name": "python"
    }
  },
  "cells": [
    {
      "cell_type": "markdown",
      "metadata": {
        "id": "view-in-github",
        "colab_type": "text"
      },
      "source": [
        "<a href=\"https://colab.research.google.com/github/satyanarayanaallam/tensorflow_practice/blob/main/sample_feed_forward_nn.ipynb\" target=\"_parent\"><img src=\"https://colab.research.google.com/assets/colab-badge.svg\" alt=\"Open In Colab\"/></a>"
      ]
    },
    {
      "cell_type": "code",
      "execution_count": 3,
      "metadata": {
        "id": "QJ1LDtJqH0sb"
      },
      "outputs": [],
      "source": [
        "import tensorflow as tf\n",
        "from tensorflow.keras.models import Sequential\n",
        "from tensorflow.keras.layers import Dense\n",
        "import numpy as np"
      ]
    },
    {
      "cell_type": "code",
      "source": [
        "np.random.seed(42)\n",
        "X_train=np.random.rand(100,10)\n",
        "y_train=np.random.randint(2,size=(100,))"
      ],
      "metadata": {
        "id": "u9lwFuj6IZ59"
      },
      "execution_count": 5,
      "outputs": []
    },
    {
      "cell_type": "code",
      "source": [
        "model=Sequential()"
      ],
      "metadata": {
        "id": "bpu2nZk1JZvF"
      },
      "execution_count": 6,
      "outputs": []
    },
    {
      "cell_type": "code",
      "source": [
        "model.add(Dense(units=10,activation='relu',input_dim=10))\n",
        "model.add(Dense(units=8,activation='relu'))\n",
        "model.add(Dense(units=1,activation='sigmoid'))"
      ],
      "metadata": {
        "id": "1Uc48hwOJczI"
      },
      "execution_count": 15,
      "outputs": []
    },
    {
      "cell_type": "code",
      "source": [
        "model.compile(optimizer='adam',loss='binary_crossentropy',metrics=['accuracy'])"
      ],
      "metadata": {
        "id": "dxBYZlooKMFa"
      },
      "execution_count": 16,
      "outputs": []
    },
    {
      "cell_type": "code",
      "source": [
        "model.fit(X_train,y_train,epochs=10,batch_size=32,validation_split=0.2)"
      ],
      "metadata": {
        "colab": {
          "base_uri": "https://localhost:8080/"
        },
        "id": "PhzApl3vKYJA",
        "outputId": "619cc470-663e-4ae7-c788-56b15187760f"
      },
      "execution_count": 17,
      "outputs": [
        {
          "output_type": "stream",
          "name": "stdout",
          "text": [
            "Epoch 1/10\n",
            "3/3 [==============================] - 3s 137ms/step - loss: 0.6941 - accuracy: 0.4625 - val_loss: 0.6922 - val_accuracy: 0.5500\n",
            "Epoch 2/10\n",
            "3/3 [==============================] - 0s 20ms/step - loss: 0.6940 - accuracy: 0.4625 - val_loss: 0.6923 - val_accuracy: 0.5500\n",
            "Epoch 3/10\n",
            "3/3 [==============================] - 0s 18ms/step - loss: 0.6938 - accuracy: 0.4625 - val_loss: 0.6925 - val_accuracy: 0.5500\n",
            "Epoch 4/10\n",
            "3/3 [==============================] - 0s 23ms/step - loss: 0.6936 - accuracy: 0.4625 - val_loss: 0.6926 - val_accuracy: 0.5500\n",
            "Epoch 5/10\n",
            "3/3 [==============================] - 0s 19ms/step - loss: 0.6935 - accuracy: 0.4625 - val_loss: 0.6928 - val_accuracy: 0.5500\n",
            "Epoch 6/10\n",
            "3/3 [==============================] - 0s 18ms/step - loss: 0.6934 - accuracy: 0.4625 - val_loss: 0.6930 - val_accuracy: 0.5500\n",
            "Epoch 7/10\n",
            "3/3 [==============================] - 0s 27ms/step - loss: 0.6932 - accuracy: 0.4625 - val_loss: 0.6931 - val_accuracy: 0.5500\n",
            "Epoch 8/10\n",
            "3/3 [==============================] - 0s 18ms/step - loss: 0.6931 - accuracy: 0.4625 - val_loss: 0.6933 - val_accuracy: 0.4500\n",
            "Epoch 9/10\n",
            "3/3 [==============================] - 0s 19ms/step - loss: 0.6931 - accuracy: 0.5375 - val_loss: 0.6935 - val_accuracy: 0.4500\n",
            "Epoch 10/10\n",
            "3/3 [==============================] - 0s 19ms/step - loss: 0.6929 - accuracy: 0.5375 - val_loss: 0.6936 - val_accuracy: 0.4500\n"
          ]
        },
        {
          "output_type": "execute_result",
          "data": {
            "text/plain": [
              "<keras.src.callbacks.History at 0x78d3d113e890>"
            ]
          },
          "metadata": {},
          "execution_count": 17
        }
      ]
    },
    {
      "cell_type": "code",
      "source": [
        "new_data = np.random.rand(10)  # New data point with 10 features\n",
        "prediction = model.predict(np.array([new_data]))\n",
        "print(\"Prediction:\", prediction)"
      ],
      "metadata": {
        "colab": {
          "base_uri": "https://localhost:8080/"
        },
        "id": "W2jC2cBYKtWa",
        "outputId": "d4814e40-9e0e-4ed3-fee9-986aaddf99a4"
      },
      "execution_count": 18,
      "outputs": [
        {
          "output_type": "stream",
          "name": "stdout",
          "text": [
            "1/1 [==============================] - 0s 98ms/step\n",
            "Prediction: [[0.49769017]]\n"
          ]
        }
      ]
    }
  ]
}