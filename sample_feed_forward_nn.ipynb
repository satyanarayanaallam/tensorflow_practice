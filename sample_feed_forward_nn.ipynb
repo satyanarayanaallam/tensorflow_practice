{
  "nbformat": 4,
  "nbformat_minor": 0,
  "metadata": {
    "colab": {
      "provenance": [],
      "authorship_tag": "ABX9TyP9sADls8lTlUMoR3UAgSDt",
      "include_colab_link": true
    },
    "kernelspec": {
      "name": "python3",
      "display_name": "Python 3"
    },
    "language_info": {
      "name": "python"
    }
  },
  "cells": [
    {
      "cell_type": "markdown",
      "metadata": {
        "id": "view-in-github",
        "colab_type": "text"
      },
      "source": [
        "<a href=\"https://colab.research.google.com/github/satyanarayanaallam/tensorflow_practice/blob/main/sample_feed_forward_nn.ipynb\" target=\"_parent\"><img src=\"https://colab.research.google.com/assets/colab-badge.svg\" alt=\"Open In Colab\"/></a>"
      ]
    },
    {
      "cell_type": "code",
      "execution_count": 20,
      "metadata": {
        "id": "QJ1LDtJqH0sb"
      },
      "outputs": [],
      "source": [
        "import tensorflow as tf\n",
        "from tensorflow.keras.models import Sequential\n",
        "from tensorflow.keras.layers import Dense\n",
        "import numpy as np\n",
        "from tensorflow.keras.utils import plot_model"
      ]
    },
    {
      "cell_type": "code",
      "source": [
        "np.random.seed(42)\n",
        "X_train=np.random.rand(100,10)\n",
        "y_train=np.random.randint(2,size=(100,))"
      ],
      "metadata": {
        "id": "u9lwFuj6IZ59"
      },
      "execution_count": 21,
      "outputs": []
    },
    {
      "cell_type": "code",
      "source": [
        "model=Sequential()"
      ],
      "metadata": {
        "id": "bpu2nZk1JZvF"
      },
      "execution_count": 22,
      "outputs": []
    },
    {
      "cell_type": "code",
      "source": [
        "model.add(Dense(units=10,activation='relu',input_dim=10))\n",
        "model.add(Dense(units=8,activation='relu'))\n",
        "model.add(Dense(units=1,activation='sigmoid'))"
      ],
      "metadata": {
        "id": "1Uc48hwOJczI"
      },
      "execution_count": 23,
      "outputs": []
    },
    {
      "cell_type": "code",
      "source": [
        "model.compile(optimizer='adam',loss='binary_crossentropy',metrics=['accuracy'])"
      ],
      "metadata": {
        "id": "dxBYZlooKMFa"
      },
      "execution_count": 24,
      "outputs": []
    },
    {
      "cell_type": "code",
      "source": [
        "model.fit(X_train,y_train,epochs=10,batch_size=32,validation_split=0.2)"
      ],
      "metadata": {
        "colab": {
          "base_uri": "https://localhost:8080/"
        },
        "id": "PhzApl3vKYJA",
        "outputId": "02b2c04b-41ba-4fc9-be31-88f9b0b35d33"
      },
      "execution_count": 25,
      "outputs": [
        {
          "output_type": "stream",
          "name": "stdout",
          "text": [
            "Epoch 1/10\n",
            "3/3 [==============================] - 1s 116ms/step - loss: 0.7733 - accuracy: 0.5375 - val_loss: 0.8050 - val_accuracy: 0.4500\n",
            "Epoch 2/10\n",
            "3/3 [==============================] - 0s 18ms/step - loss: 0.7594 - accuracy: 0.5375 - val_loss: 0.7939 - val_accuracy: 0.4500\n",
            "Epoch 3/10\n",
            "3/3 [==============================] - 0s 20ms/step - loss: 0.7500 - accuracy: 0.5375 - val_loss: 0.7825 - val_accuracy: 0.4500\n",
            "Epoch 4/10\n",
            "3/3 [==============================] - 0s 18ms/step - loss: 0.7393 - accuracy: 0.5375 - val_loss: 0.7722 - val_accuracy: 0.4500\n",
            "Epoch 5/10\n",
            "3/3 [==============================] - 0s 18ms/step - loss: 0.7302 - accuracy: 0.5375 - val_loss: 0.7627 - val_accuracy: 0.4500\n",
            "Epoch 6/10\n",
            "3/3 [==============================] - 0s 26ms/step - loss: 0.7225 - accuracy: 0.5375 - val_loss: 0.7539 - val_accuracy: 0.4500\n",
            "Epoch 7/10\n",
            "3/3 [==============================] - 0s 27ms/step - loss: 0.7166 - accuracy: 0.5375 - val_loss: 0.7457 - val_accuracy: 0.5000\n",
            "Epoch 8/10\n",
            "3/3 [==============================] - 0s 18ms/step - loss: 0.7089 - accuracy: 0.5375 - val_loss: 0.7386 - val_accuracy: 0.5000\n",
            "Epoch 9/10\n",
            "3/3 [==============================] - 0s 20ms/step - loss: 0.7029 - accuracy: 0.5375 - val_loss: 0.7323 - val_accuracy: 0.5000\n",
            "Epoch 10/10\n",
            "3/3 [==============================] - 0s 26ms/step - loss: 0.6994 - accuracy: 0.5375 - val_loss: 0.7266 - val_accuracy: 0.5000\n"
          ]
        },
        {
          "output_type": "execute_result",
          "data": {
            "text/plain": [
              "<keras.src.callbacks.History at 0x78d3d0e9d3c0>"
            ]
          },
          "metadata": {},
          "execution_count": 25
        }
      ]
    },
    {
      "cell_type": "code",
      "source": [
        "new_data = np.random.rand(10)  # New data point with 10 features\n",
        "prediction = model.predict(np.array([new_data]))\n",
        "print(\"Prediction:\", prediction)"
      ],
      "metadata": {
        "colab": {
          "base_uri": "https://localhost:8080/"
        },
        "id": "W2jC2cBYKtWa",
        "outputId": "01c3ad13-a963-4625-d35e-157ee7d699bf"
      },
      "execution_count": 26,
      "outputs": [
        {
          "output_type": "stream",
          "name": "stdout",
          "text": [
            "1/1 [==============================] - 0s 81ms/step\n",
            "Prediction: [[0.37748945]]\n"
          ]
        }
      ]
    },
    {
      "cell_type": "code",
      "source": [
        "plot_model(model, to_file='model_plot.png', show_shapes=True, show_layer_names=True)"
      ],
      "metadata": {
        "colab": {
          "base_uri": "https://localhost:8080/",
          "height": 422
        },
        "id": "TpeWoOgoLyLk",
        "outputId": "f4732e0d-e8d0-4756-b036-841645a9c7bb"
      },
      "execution_count": 27,
      "outputs": [
        {
          "output_type": "execute_result",
          "data": {
            "image/png": "[encoded data removed]",
            "text/plain": [
              "<IPython.core.display.Image object>"
            ]
          },
          "metadata": {},
          "execution_count": 27
        }
      ]
    }
  ]
}